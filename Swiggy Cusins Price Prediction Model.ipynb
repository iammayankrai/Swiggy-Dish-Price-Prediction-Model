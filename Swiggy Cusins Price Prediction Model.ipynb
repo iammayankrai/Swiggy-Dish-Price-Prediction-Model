{
 "cells": [
  {
   "cell_type": "markdown",
   "id": "ba0ae668",
   "metadata": {},
   "source": [
    "# Mayank Swiggy Price Predictor"
   ]
  },
  {
   "cell_type": "code",
   "execution_count": 1,
   "id": "1f5e5823",
   "metadata": {},
   "outputs": [],
   "source": [
    "import pandas as pd"
   ]
  },
  {
   "cell_type": "code",
   "execution_count": 2,
   "id": "ae586dab",
   "metadata": {},
   "outputs": [],
   "source": [
    "Swiggy=pd.read_csv(\"data.csv\")"
   ]
  },
  {
   "cell_type": "code",
   "execution_count": 3,
   "id": "12a0c8ba",
   "metadata": {},
   "outputs": [
    {
     "data": {
      "text/html": [
       "<div>\n",
       "<style scoped>\n",
       "    .dataframe tbody tr th:only-of-type {\n",
       "        vertical-align: middle;\n",
       "    }\n",
       "\n",
       "    .dataframe tbody tr th {\n",
       "        vertical-align: top;\n",
       "    }\n",
       "\n",
       "    .dataframe thead th {\n",
       "        text-align: right;\n",
       "    }\n",
       "</style>\n",
       "<table border=\"1\" class=\"dataframe\">\n",
       "  <thead>\n",
       "    <tr style=\"text-align: right;\">\n",
       "      <th></th>\n",
       "      <th>Restaurant_Id</th>\n",
       "      <th>Rating</th>\n",
       "      <th>PrContinental__</th>\n",
       "      <th>Price_for_1</th>\n",
       "      <th>Delivery_review_number</th>\n",
       "      <th>Price of the dish</th>\n",
       "    </tr>\n",
       "  </thead>\n",
       "  <tbody>\n",
       "    <tr>\n",
       "      <th>0</th>\n",
       "      <td>1</td>\n",
       "      <td>4.2</td>\n",
       "      <td>600</td>\n",
       "      <td>300</td>\n",
       "      <td>5000</td>\n",
       "      <td>2500</td>\n",
       "    </tr>\n",
       "    <tr>\n",
       "      <th>1</th>\n",
       "      <td>2</td>\n",
       "      <td>3.9</td>\n",
       "      <td>500</td>\n",
       "      <td>250</td>\n",
       "      <td>15000</td>\n",
       "      <td>7500</td>\n",
       "    </tr>\n",
       "    <tr>\n",
       "      <th>2</th>\n",
       "      <td>3</td>\n",
       "      <td>4.2</td>\n",
       "      <td>350</td>\n",
       "      <td>175</td>\n",
       "      <td>1000</td>\n",
       "      <td>500</td>\n",
       "    </tr>\n",
       "    <tr>\n",
       "      <th>3</th>\n",
       "      <td>4</td>\n",
       "      <td>4.4</td>\n",
       "      <td>1200</td>\n",
       "      <td>600</td>\n",
       "      <td>10000</td>\n",
       "      <td>5000</td>\n",
       "    </tr>\n",
       "    <tr>\n",
       "      <th>4</th>\n",
       "      <td>5</td>\n",
       "      <td>3.1</td>\n",
       "      <td>300</td>\n",
       "      <td>150</td>\n",
       "      <td>500</td>\n",
       "      <td>250</td>\n",
       "    </tr>\n",
       "  </tbody>\n",
       "</table>\n",
       "</div>"
      ],
      "text/plain": [
       "   Restaurant_Id  Rating  PrContinental__  Price_for_1   \n",
       "0              1     4.2              600          300  \\\n",
       "1              2     3.9              500          250   \n",
       "2              3     4.2              350          175   \n",
       "3              4     4.4             1200          600   \n",
       "4              5     3.1              300          150   \n",
       "\n",
       "   Delivery_review_number  Price of the dish  \n",
       "0                    5000               2500  \n",
       "1                   15000               7500  \n",
       "2                    1000                500  \n",
       "3                   10000               5000  \n",
       "4                     500                250  "
      ]
     },
     "execution_count": 3,
     "metadata": {},
     "output_type": "execute_result"
    }
   ],
   "source": [
    "Swiggy.head()"
   ]
  },
  {
   "cell_type": "code",
   "execution_count": 4,
   "id": "bc392d78",
   "metadata": {},
   "outputs": [
    {
     "name": "stdout",
     "output_type": "stream",
     "text": [
      "<class 'pandas.core.frame.DataFrame'>\n",
      "RangeIndex: 516 entries, 0 to 515\n",
      "Data columns (total 6 columns):\n",
      " #   Column                  Non-Null Count  Dtype  \n",
      "---  ------                  --------------  -----  \n",
      " 0   Restaurant_Id           516 non-null    int64  \n",
      " 1   Rating                  516 non-null    float64\n",
      " 2   PrContinental__         516 non-null    int64  \n",
      " 3   Price_for_1             516 non-null    int64  \n",
      " 4   Delivery_review_number  516 non-null    int64  \n",
      " 5   Price of the dish       516 non-null    int64  \n",
      "dtypes: float64(1), int64(5)\n",
      "memory usage: 24.3 KB\n"
     ]
    }
   ],
   "source": [
    "Swiggy.info()"
   ]
  },
  {
   "cell_type": "code",
   "execution_count": 5,
   "id": "56a24d1e",
   "metadata": {},
   "outputs": [
    {
     "data": {
      "text/html": [
       "<div>\n",
       "<style scoped>\n",
       "    .dataframe tbody tr th:only-of-type {\n",
       "        vertical-align: middle;\n",
       "    }\n",
       "\n",
       "    .dataframe tbody tr th {\n",
       "        vertical-align: top;\n",
       "    }\n",
       "\n",
       "    .dataframe thead th {\n",
       "        text-align: right;\n",
       "    }\n",
       "</style>\n",
       "<table border=\"1\" class=\"dataframe\">\n",
       "  <thead>\n",
       "    <tr style=\"text-align: right;\">\n",
       "      <th></th>\n",
       "      <th>Restaurant_Id</th>\n",
       "      <th>Rating</th>\n",
       "      <th>PrContinental__</th>\n",
       "      <th>Price_for_1</th>\n",
       "      <th>Delivery_review_number</th>\n",
       "      <th>Price of the dish</th>\n",
       "    </tr>\n",
       "  </thead>\n",
       "  <tbody>\n",
       "    <tr>\n",
       "      <th>count</th>\n",
       "      <td>516.000000</td>\n",
       "      <td>516.000000</td>\n",
       "      <td>516.000000</td>\n",
       "      <td>516.000000</td>\n",
       "      <td>516.000000</td>\n",
       "      <td>516.000000</td>\n",
       "    </tr>\n",
       "    <tr>\n",
       "      <th>mean</th>\n",
       "      <td>258.500000</td>\n",
       "      <td>3.712016</td>\n",
       "      <td>294.728682</td>\n",
       "      <td>147.383721</td>\n",
       "      <td>6540.697674</td>\n",
       "      <td>3270.348837</td>\n",
       "    </tr>\n",
       "    <tr>\n",
       "      <th>std</th>\n",
       "      <td>149.100637</td>\n",
       "      <td>0.534527</td>\n",
       "      <td>121.601242</td>\n",
       "      <td>60.804350</td>\n",
       "      <td>5550.062599</td>\n",
       "      <td>2775.031299</td>\n",
       "    </tr>\n",
       "    <tr>\n",
       "      <th>min</th>\n",
       "      <td>1.000000</td>\n",
       "      <td>1.700000</td>\n",
       "      <td>100.000000</td>\n",
       "      <td>50.000000</td>\n",
       "      <td>500.000000</td>\n",
       "      <td>250.000000</td>\n",
       "    </tr>\n",
       "    <tr>\n",
       "      <th>25%</th>\n",
       "      <td>129.750000</td>\n",
       "      <td>3.400000</td>\n",
       "      <td>200.000000</td>\n",
       "      <td>100.000000</td>\n",
       "      <td>1000.000000</td>\n",
       "      <td>500.000000</td>\n",
       "    </tr>\n",
       "    <tr>\n",
       "      <th>50%</th>\n",
       "      <td>258.500000</td>\n",
       "      <td>3.800000</td>\n",
       "      <td>300.000000</td>\n",
       "      <td>150.000000</td>\n",
       "      <td>5000.000000</td>\n",
       "      <td>2500.000000</td>\n",
       "    </tr>\n",
       "    <tr>\n",
       "      <th>75%</th>\n",
       "      <td>387.250000</td>\n",
       "      <td>4.100000</td>\n",
       "      <td>350.000000</td>\n",
       "      <td>175.000000</td>\n",
       "      <td>10000.000000</td>\n",
       "      <td>5000.000000</td>\n",
       "    </tr>\n",
       "    <tr>\n",
       "      <th>max</th>\n",
       "      <td>516.000000</td>\n",
       "      <td>4.800000</td>\n",
       "      <td>1200.000000</td>\n",
       "      <td>600.000000</td>\n",
       "      <td>15000.000000</td>\n",
       "      <td>7500.000000</td>\n",
       "    </tr>\n",
       "  </tbody>\n",
       "</table>\n",
       "</div>"
      ],
      "text/plain": [
       "       Restaurant_Id      Rating  PrContinental__  Price_for_1   \n",
       "count     516.000000  516.000000       516.000000   516.000000  \\\n",
       "mean      258.500000    3.712016       294.728682   147.383721   \n",
       "std       149.100637    0.534527       121.601242    60.804350   \n",
       "min         1.000000    1.700000       100.000000    50.000000   \n",
       "25%       129.750000    3.400000       200.000000   100.000000   \n",
       "50%       258.500000    3.800000       300.000000   150.000000   \n",
       "75%       387.250000    4.100000       350.000000   175.000000   \n",
       "max       516.000000    4.800000      1200.000000   600.000000   \n",
       "\n",
       "       Delivery_review_number  Price of the dish  \n",
       "count              516.000000         516.000000  \n",
       "mean              6540.697674        3270.348837  \n",
       "std               5550.062599        2775.031299  \n",
       "min                500.000000         250.000000  \n",
       "25%               1000.000000         500.000000  \n",
       "50%               5000.000000        2500.000000  \n",
       "75%              10000.000000        5000.000000  \n",
       "max              15000.000000        7500.000000  "
      ]
     },
     "execution_count": 5,
     "metadata": {},
     "output_type": "execute_result"
    }
   ],
   "source": [
    "Swiggy.describe()"
   ]
  },
  {
   "cell_type": "code",
   "execution_count": 6,
   "id": "d1a58081",
   "metadata": {},
   "outputs": [],
   "source": [
    "%matplotlib inline"
   ]
  },
  {
   "cell_type": "code",
   "execution_count": 7,
   "id": "3b3311fc",
   "metadata": {},
   "outputs": [],
   "source": [
    "# import matplotlib.pyplot as plt\n",
    "# Swiggy.hist(bins=50,figsize=(20,15))"
   ]
  },
  {
   "cell_type": "markdown",
   "id": "172aadab",
   "metadata": {},
   "source": [
    "## Train-Test Splitting"
   ]
  },
  {
   "cell_type": "code",
   "execution_count": 8,
   "id": "946f2d3b",
   "metadata": {},
   "outputs": [],
   "source": [
    "# import numpy as np\n",
    "# def split_train_test(data,test_ratio):\n",
    "#     np.random.seed(42)\n",
    "#     shuffled=np.random.permutation(len(data))\n",
    "#     print(shuffled)\n",
    "#     test_set_size=int(len(data)*test_ratio)\n",
    "#     test_indices=shuffled[:test_set_size]\n",
    "#     train_indices=shuffled[test_set_size]\n",
    "#     return data.iloc[train_indices],data.iloc[test_indices]"
   ]
  },
  {
   "cell_type": "code",
   "execution_count": 9,
   "id": "76df3ce4",
   "metadata": {},
   "outputs": [],
   "source": [
    "# train_set,test_set=split_train_test(Swiggy,0.2)"
   ]
  },
  {
   "cell_type": "code",
   "execution_count": 10,
   "id": "cc34e27d",
   "metadata": {},
   "outputs": [],
   "source": [
    "# print(f\"Rows in train set : {len(train_set)}\\nRows in test set:{len(test_set)}\\n\")"
   ]
  },
  {
   "cell_type": "code",
   "execution_count": 11,
   "id": "a00e7e1b",
   "metadata": {},
   "outputs": [
    {
     "name": "stdout",
     "output_type": "stream",
     "text": [
      "Rows in train set : 412\n",
      "Rows in test set:104\n",
      "\n"
     ]
    }
   ],
   "source": [
    "from sklearn.model_selection import train_test_split\n",
    "train_set,test_set=train_test_split(Swiggy,test_size=0.2,random_state=42)\n",
    "print(f\"Rows in train set : {len(train_set)}\\nRows in test set:{len(test_set)}\\n\")"
   ]
  },
  {
   "cell_type": "code",
   "execution_count": 12,
   "id": "b2d2e2ec",
   "metadata": {},
   "outputs": [],
   "source": [
    "from sklearn.model_selection import StratifiedShuffleSplit\n",
    "split=StratifiedShuffleSplit(n_splits=1,test_size=0.2,random_state=42)\n",
    "for train_index,test_index in split.split(Swiggy,Swiggy['Delivery_review_number']):\n",
    "    strat_train_set=Swiggy.loc[train_index]\n",
    "    strat_test_set=Swiggy.loc[test_index]"
   ]
  },
  {
   "cell_type": "code",
   "execution_count": 13,
   "id": "196cf361",
   "metadata": {},
   "outputs": [
    {
     "data": {
      "text/plain": [
       "Delivery_review_number\n",
       "5000     22\n",
       "15000    22\n",
       "10000    21\n",
       "500      21\n",
       "1000     18\n",
       "Name: count, dtype: int64"
      ]
     },
     "execution_count": 13,
     "metadata": {},
     "output_type": "execute_result"
    }
   ],
   "source": [
    "strat_test_set['Delivery_review_number'].value_counts()"
   ]
  },
  {
   "cell_type": "code",
   "execution_count": 14,
   "id": "33b356fd",
   "metadata": {},
   "outputs": [
    {
     "data": {
      "text/plain": [
       "Delivery_review_number\n",
       "15000    87\n",
       "5000     86\n",
       "10000    85\n",
       "500      85\n",
       "1000     69\n",
       "Name: count, dtype: int64"
      ]
     },
     "execution_count": 14,
     "metadata": {},
     "output_type": "execute_result"
    }
   ],
   "source": [
    "strat_train_set['Delivery_review_number'].value_counts()"
   ]
  },
  {
   "cell_type": "code",
   "execution_count": 15,
   "id": "9f9109a4",
   "metadata": {},
   "outputs": [
    {
     "data": {
      "text/plain": [
       "(412, 6)"
      ]
     },
     "execution_count": 15,
     "metadata": {},
     "output_type": "execute_result"
    }
   ],
   "source": [
    "strat_train_set.shape"
   ]
  },
  {
   "cell_type": "markdown",
   "id": "c6c0cf11",
   "metadata": {},
   "source": [
    "# Looking for Coorelations"
   ]
  },
  {
   "cell_type": "code",
   "execution_count": 16,
   "id": "36d9f337",
   "metadata": {},
   "outputs": [],
   "source": [
    "corr_matrix=Swiggy.corr()"
   ]
  },
  {
   "cell_type": "code",
   "execution_count": 17,
   "id": "28787a07",
   "metadata": {},
   "outputs": [
    {
     "data": {
      "text/plain": [
       "Rating                    1.000000\n",
       "PrContinental__           0.001917\n",
       "Price_for_1               0.001638\n",
       "Delivery_review_number   -0.026281\n",
       "Price of the dish        -0.026281\n",
       "Restaurant_Id            -0.271582\n",
       "Name: Rating, dtype: float64"
      ]
     },
     "execution_count": 17,
     "metadata": {},
     "output_type": "execute_result"
    }
   ],
   "source": [
    "corr_matrix['Rating'].sort_values(ascending=False)"
   ]
  },
  {
   "cell_type": "code",
   "execution_count": 18,
   "id": "c9218d3d",
   "metadata": {},
   "outputs": [],
   "source": [
    "# from pandas.plotting import scatter_matrix\n",
    "# attributes=['Rating','Price_for_1','Delivery_review_number','Price of the dish']\n",
    "# scatter_matrix(Swiggy[attributes],figsize=(12,8))"
   ]
  },
  {
   "cell_type": "code",
   "execution_count": 19,
   "id": "d3e959e4",
   "metadata": {},
   "outputs": [
    {
     "data": {
      "text/plain": [
       "<Axes: xlabel='Rating', ylabel='Price_for_1'>"
      ]
     },
     "execution_count": 19,
     "metadata": {},
     "output_type": "execute_result"
    },
    {
     "data": {
      "image/png": "[encoded data removed]",
      "text/plain": [
       "<Figure size 640x480 with 1 Axes>"
      ]
     },
     "metadata": {},
     "output_type": "display_data"
    }
   ],
   "source": [
    "Swiggy.plot(kind=\"scatter\",x=\"Rating\",y='Price_for_1',alpha=0.9)"
   ]
  },
  {
   "cell_type": "code",
   "execution_count": 20,
   "id": "156691af",
   "metadata": {},
   "outputs": [],
   "source": [
    "Swiggy=strat_train_set.drop(\"Price_for_1\",axis=1)\n",
    "Swiggy_labels=strat_train_set[\"Price_for_1\"].copy()"
   ]
  },
  {
   "cell_type": "markdown",
   "id": "86d6dfef",
   "metadata": {},
   "source": [
    "# Modification in Data"
   ]
  },
  {
   "cell_type": "code",
   "execution_count": 21,
   "id": "4b6371ad",
   "metadata": {},
   "outputs": [
    {
     "data": {
      "text/html": [
       "<style>#sk-container-id-1 {color: black;background-color: white;}#sk-container-id-1 pre{padding: 0;}#sk-container-id-1 div.sk-toggleable {background-color: white;}#sk-container-id-1 label.sk-toggleable__label {cursor: pointer;display: block;width: 100%;margin-bottom: 0;padding: 0.3em;box-sizing: border-box;text-align: center;}#sk-container-id-1 label.sk-toggleable__label-arrow:before {content: \"▸\";float: left;margin-right: 0.25em;color: #696969;}#sk-container-id-1 label.sk-toggleable__label-arrow:hover:before {color: black;}#sk-container-id-1 div.sk-estimator:hover label.sk-toggleable__label-arrow:before {color: black;}#sk-container-id-1 div.sk-toggleable__content {max-height: 0;max-width: 0;overflow: hidden;text-align: left;background-color: #f0f8ff;}#sk-container-id-1 div.sk-toggleable__content pre {margin: 0.2em;color: black;border-radius: 0.25em;background-color: #f0f8ff;}#sk-container-id-1 input.sk-toggleable__control:checked~div.sk-toggleable__content {max-height: 200px;max-width: 100%;overflow: auto;}#sk-container-id-1 input.sk-toggleable__control:checked~label.sk-toggleable__label-arrow:before {content: \"▾\";}#sk-container-id-1 div.sk-estimator input.sk-toggleable__control:checked~label.sk-toggleable__label {background-color: #d4ebff;}#sk-container-id-1 div.sk-label input.sk-toggleable__control:checked~label.sk-toggleable__label {background-color: #d4ebff;}#sk-container-id-1 input.sk-hidden--visually {border: 0;clip: rect(1px 1px 1px 1px);clip: rect(1px, 1px, 1px, 1px);height: 1px;margin: -1px;overflow: hidden;padding: 0;position: absolute;width: 1px;}#sk-container-id-1 div.sk-estimator {font-family: monospace;background-color: #f0f8ff;border: 1px dotted black;border-radius: 0.25em;box-sizing: border-box;margin-bottom: 0.5em;}#sk-container-id-1 div.sk-estimator:hover {background-color: #d4ebff;}#sk-container-id-1 div.sk-parallel-item::after {content: \"\";width: 100%;border-bottom: 1px solid gray;flex-grow: 1;}#sk-container-id-1 div.sk-label:hover label.sk-toggleable__label {background-color: #d4ebff;}#sk-container-id-1 div.sk-serial::before {content: \"\";position: absolute;border-left: 1px solid gray;box-sizing: border-box;top: 0;bottom: 0;left: 50%;z-index: 0;}#sk-container-id-1 div.sk-serial {display: flex;flex-direction: column;align-items: center;background-color: white;padding-right: 0.2em;padding-left: 0.2em;position: relative;}#sk-container-id-1 div.sk-item {position: relative;z-index: 1;}#sk-container-id-1 div.sk-parallel {display: flex;align-items: stretch;justify-content: center;background-color: white;position: relative;}#sk-container-id-1 div.sk-item::before, #sk-container-id-1 div.sk-parallel-item::before {content: \"\";position: absolute;border-left: 1px solid gray;box-sizing: border-box;top: 0;bottom: 0;left: 50%;z-index: -1;}#sk-container-id-1 div.sk-parallel-item {display: flex;flex-direction: column;z-index: 1;position: relative;background-color: white;}#sk-container-id-1 div.sk-parallel-item:first-child::after {align-self: flex-end;width: 50%;}#sk-container-id-1 div.sk-parallel-item:last-child::after {align-self: flex-start;width: 50%;}#sk-container-id-1 div.sk-parallel-item:only-child::after {width: 0;}#sk-container-id-1 div.sk-dashed-wrapped {border: 1px dashed gray;margin: 0 0.4em 0.5em 0.4em;box-sizing: border-box;padding-bottom: 0.4em;background-color: white;}#sk-container-id-1 div.sk-label label {font-family: monospace;font-weight: bold;display: inline-block;line-height: 1.2em;}#sk-container-id-1 div.sk-label-container {text-align: center;}#sk-container-id-1 div.sk-container {/* jupyter's `normalize.less` sets `[hidden] { display: none; }` but bootstrap.min.css set `[hidden] { display: none !important; }` so we also need the `!important` here to be able to override the default hidden behavior on the sphinx rendered scikit-learn.org. See: https://github.com/scikit-learn/scikit-learn/issues/21755 */display: inline-block !important;position: relative;}#sk-container-id-1 div.sk-text-repr-fallback {display: none;}</style><div id=\"sk-container-id-1\" class=\"sk-top-container\"><div class=\"sk-text-repr-fallback\"><pre>SimpleImputer(strategy=&#x27;median&#x27;)</pre><b>In a Jupyter environment, please rerun this cell to show the HTML representation or trust the notebook. <br />On GitHub, the HTML representation is unable to render, please try loading this page with nbviewer.org.</b></div><div class=\"sk-container\" hidden><div class=\"sk-item\"><div class=\"sk-estimator sk-toggleable\"><input class=\"sk-toggleable__control sk-hidden--visually\" id=\"sk-estimator-id-1\" type=\"checkbox\" checked><label for=\"sk-estimator-id-1\" class=\"sk-toggleable__label sk-toggleable__label-arrow\">SimpleImputer</label><div class=\"sk-toggleable__content\"><pre>SimpleImputer(strategy=&#x27;median&#x27;)</pre></div></div></div></div></div>"
      ],
      "text/plain": [
       "SimpleImputer(strategy='median')"
      ]
     },
     "execution_count": 21,
     "metadata": {},
     "output_type": "execute_result"
    }
   ],
   "source": [
    "from sklearn.impute import SimpleImputer\n",
    "imputer=SimpleImputer(strategy='median')\n",
    "imputer.fit(Swiggy)"
   ]
  },
  {
   "cell_type": "markdown",
   "id": "e7fa6485",
   "metadata": {},
   "source": [
    "# Scikit Learn Design "
   ]
  },
  {
   "cell_type": "markdown",
   "id": "a8253af6",
   "metadata": {},
   "source": [
    "Three Type of Object\n",
    "1. Estimators- It estimate paramaters based on DataSet, Ex-Imputer(Filling median in blank rows)\n",
    "Two Method:\n",
    "Fit method- Fits the dataset and calculate paramaters\n",
    "2. Transformer- transform method take input and returns output based on the learnings from fit(). having function called fit_transform() which fits and tnasform.\n",
    "3. Pridictors- Lienar Regression model, ex- fit(), predict(), score()-evaluate the predictions."
   ]
  },
  {
   "cell_type": "markdown",
   "id": "2b045523",
   "metadata": {},
   "source": [
    "# Feature Scaling "
   ]
  },
  {
   "cell_type": "markdown",
   "id": "56b6e50a",
   "metadata": {},
   "source": [
    "Two Types\n",
    "1. Min-max scaling(Normalization)\n",
    "    (value-min)/(max-min)\n",
    "    sklearn provide class= MinMax Scaler\n",
    "2. Standardization\n",
    "    (value-mean)/std\n",
    "    sklearn provide class= Standard Scaler"
   ]
  },
  {
   "cell_type": "markdown",
   "id": "5b8733a6",
   "metadata": {},
   "source": [
    "# Creating Pipeline"
   ]
  },
  {
   "cell_type": "code",
   "execution_count": 22,
   "id": "4f843daa",
   "metadata": {},
   "outputs": [],
   "source": [
    "from sklearn.pipeline import Pipeline\n",
    "from sklearn.preprocessing import StandardScaler\n",
    "my_pipeline=Pipeline([\n",
    "    ('imputer',SimpleImputer(strategy=\"median\")),\n",
    "    ('std_scaler',StandardScaler()),\n",
    "])"
   ]
  },
  {
   "cell_type": "code",
   "execution_count": 23,
   "id": "7769cef5",
   "metadata": {},
   "outputs": [],
   "source": [
    "Swiggy_num=my_pipeline.fit_transform(Swiggy)"
   ]
  },
  {
   "cell_type": "code",
   "execution_count": 24,
   "id": "4d4b2967",
   "metadata": {},
   "outputs": [
    {
     "data": {
      "text/plain": [
       "array([[ 1.57700505e+00,  4.40388538e-04, -1.61250982e+00,\n",
       "         6.23122397e-01,  6.23122397e-01],\n",
       "       [ 3.14535811e-01, -1.08820008e+00, -3.95491552e-01,\n",
       "        -1.00001624e+00, -1.00001624e+00],\n",
       "       [-1.02894749e+00,  1.63340109e+00, -1.04456796e+00,\n",
       "        -2.78621290e-01, -2.78621290e-01],\n",
       "       ...,\n",
       "       [ 9.82901877e-01,  5.44760622e-01,  2.44421774e+00,\n",
       "        -1.00001624e+00, -1.00001624e+00],\n",
       "       [-1.33950142e+00, -1.99540047e+00, -8.01164308e-01,\n",
       "        -1.00001624e+00, -1.00001624e+00],\n",
       "       [ 1.42172808e+00, -3.62439767e-01,  4.79711973e+00,\n",
       "        -1.00001624e+00, -1.00001624e+00]])"
      ]
     },
     "execution_count": 24,
     "metadata": {},
     "output_type": "execute_result"
    }
   ],
   "source": [
    "Swiggy_num"
   ]
  },
  {
   "cell_type": "code",
   "execution_count": 25,
   "id": "bb1f598f",
   "metadata": {},
   "outputs": [
    {
     "data": {
      "text/plain": [
       "(412, 5)"
      ]
     },
     "execution_count": 25,
     "metadata": {},
     "output_type": "execute_result"
    }
   ],
   "source": [
    "Swiggy_num.shape"
   ]
  },
  {
   "cell_type": "markdown",
   "id": "7ea262a6",
   "metadata": {},
   "source": [
    "## Selecting a desired model for Swiggy"
   ]
  },
  {
   "cell_type": "code",
   "execution_count": 26,
   "id": "73903eab",
   "metadata": {},
   "outputs": [
    {
     "data": {
      "text/html": [
       "<style>#sk-container-id-2 {color: black;background-color: white;}#sk-container-id-2 pre{padding: 0;}#sk-container-id-2 div.sk-toggleable {background-color: white;}#sk-container-id-2 label.sk-toggleable__label {cursor: pointer;display: block;width: 100%;margin-bottom: 0;padding: 0.3em;box-sizing: border-box;text-align: center;}#sk-container-id-2 label.sk-toggleable__label-arrow:before {content: \"▸\";float: left;margin-right: 0.25em;color: #696969;}#sk-container-id-2 label.sk-toggleable__label-arrow:hover:before {color: black;}#sk-container-id-2 div.sk-estimator:hover label.sk-toggleable__label-arrow:before {color: black;}#sk-container-id-2 div.sk-toggleable__content {max-height: 0;max-width: 0;overflow: hidden;text-align: left;background-color: #f0f8ff;}#sk-container-id-2 div.sk-toggleable__content pre {margin: 0.2em;color: black;border-radius: 0.25em;background-color: #f0f8ff;}#sk-container-id-2 input.sk-toggleable__control:checked~div.sk-toggleable__content {max-height: 200px;max-width: 100%;overflow: auto;}#sk-container-id-2 input.sk-toggleable__control:checked~label.sk-toggleable__label-arrow:before {content: \"▾\";}#sk-container-id-2 div.sk-estimator input.sk-toggleable__control:checked~label.sk-toggleable__label {background-color: #d4ebff;}#sk-container-id-2 div.sk-label input.sk-toggleable__control:checked~label.sk-toggleable__label {background-color: #d4ebff;}#sk-container-id-2 input.sk-hidden--visually {border: 0;clip: rect(1px 1px 1px 1px);clip: rect(1px, 1px, 1px, 1px);height: 1px;margin: -1px;overflow: hidden;padding: 0;position: absolute;width: 1px;}#sk-container-id-2 div.sk-estimator {font-family: monospace;background-color: #f0f8ff;border: 1px dotted black;border-radius: 0.25em;box-sizing: border-box;margin-bottom: 0.5em;}#sk-container-id-2 div.sk-estimator:hover {background-color: #d4ebff;}#sk-container-id-2 div.sk-parallel-item::after {content: \"\";width: 100%;border-bottom: 1px solid gray;flex-grow: 1;}#sk-container-id-2 div.sk-label:hover label.sk-toggleable__label {background-color: #d4ebff;}#sk-container-id-2 div.sk-serial::before {content: \"\";position: absolute;border-left: 1px solid gray;box-sizing: border-box;top: 0;bottom: 0;left: 50%;z-index: 0;}#sk-container-id-2 div.sk-serial {display: flex;flex-direction: column;align-items: center;background-color: white;padding-right: 0.2em;padding-left: 0.2em;position: relative;}#sk-container-id-2 div.sk-item {position: relative;z-index: 1;}#sk-container-id-2 div.sk-parallel {display: flex;align-items: stretch;justify-content: center;background-color: white;position: relative;}#sk-container-id-2 div.sk-item::before, #sk-container-id-2 div.sk-parallel-item::before {content: \"\";position: absolute;border-left: 1px solid gray;box-sizing: border-box;top: 0;bottom: 0;left: 50%;z-index: -1;}#sk-container-id-2 div.sk-parallel-item {display: flex;flex-direction: column;z-index: 1;position: relative;background-color: white;}#sk-container-id-2 div.sk-parallel-item:first-child::after {align-self: flex-end;width: 50%;}#sk-container-id-2 div.sk-parallel-item:last-child::after {align-self: flex-start;width: 50%;}#sk-container-id-2 div.sk-parallel-item:only-child::after {width: 0;}#sk-container-id-2 div.sk-dashed-wrapped {border: 1px dashed gray;margin: 0 0.4em 0.5em 0.4em;box-sizing: border-box;padding-bottom: 0.4em;background-color: white;}#sk-container-id-2 div.sk-label label {font-family: monospace;font-weight: bold;display: inline-block;line-height: 1.2em;}#sk-container-id-2 div.sk-label-container {text-align: center;}#sk-container-id-2 div.sk-container {/* jupyter's `normalize.less` sets `[hidden] { display: none; }` but bootstrap.min.css set `[hidden] { display: none !important; }` so we also need the `!important` here to be able to override the default hidden behavior on the sphinx rendered scikit-learn.org. See: https://github.com/scikit-learn/scikit-learn/issues/21755 */display: inline-block !important;position: relative;}#sk-container-id-2 div.sk-text-repr-fallback {display: none;}</style><div id=\"sk-container-id-2\" class=\"sk-top-container\"><div class=\"sk-text-repr-fallback\"><pre>LinearRegression()</pre><b>In a Jupyter environment, please rerun this cell to show the HTML representation or trust the notebook. <br />On GitHub, the HTML representation is unable to render, please try loading this page with nbviewer.org.</b></div><div class=\"sk-container\" hidden><div class=\"sk-item\"><div class=\"sk-estimator sk-toggleable\"><input class=\"sk-toggleable__control sk-hidden--visually\" id=\"sk-estimator-id-2\" type=\"checkbox\" checked><label for=\"sk-estimator-id-2\" class=\"sk-toggleable__label sk-toggleable__label-arrow\">LinearRegression</label><div class=\"sk-toggleable__content\"><pre>LinearRegression()</pre></div></div></div></div></div>"
      ],
      "text/plain": [
       "LinearRegression()"
      ]
     },
     "execution_count": 26,
     "metadata": {},
     "output_type": "execute_result"
    }
   ],
   "source": [
    "from sklearn.linear_model import LinearRegression\n",
    "from sklearn.tree import DecisionTreeRegressor\n",
    "from sklearn.ensemble import RandomForestRegressor\n",
    "model=LinearRegression()\n",
    "# model=DecisionTreeRegressor()\n",
    "# model=RandomForestRegressor()\n",
    "model.fit(Swiggy_num,Swiggy_labels)"
   ]
  },
  {
   "cell_type": "code",
   "execution_count": 27,
   "id": "ca70a0de",
   "metadata": {},
   "outputs": [],
   "source": [
    "some_data=Swiggy.iloc[:3]"
   ]
  },
  {
   "cell_type": "code",
   "execution_count": 28,
   "id": "26fa8196",
   "metadata": {},
   "outputs": [],
   "source": [
    "some_labels=Swiggy_labels.iloc[:3]"
   ]
  },
  {
   "cell_type": "code",
   "execution_count": 29,
   "id": "82263680",
   "metadata": {},
   "outputs": [],
   "source": [
    "prepared_data=my_pipeline.transform(some_data)"
   ]
  },
  {
   "cell_type": "code",
   "execution_count": 30,
   "id": "92d3ccc4",
   "metadata": {},
   "outputs": [
    {
     "data": {
      "text/plain": [
       "array([ 50.00624261, 125.04420254,  84.9809163 ])"
      ]
     },
     "execution_count": 30,
     "metadata": {},
     "output_type": "execute_result"
    }
   ],
   "source": [
    "model.predict(prepared_data)"
   ]
  },
  {
   "cell_type": "code",
   "execution_count": 31,
   "id": "e09357b5",
   "metadata": {},
   "outputs": [
    {
     "data": {
      "text/plain": [
       "[50, 125, 85]"
      ]
     },
     "execution_count": 31,
     "metadata": {},
     "output_type": "execute_result"
    }
   ],
   "source": [
    "list(some_labels)"
   ]
  },
  {
   "cell_type": "markdown",
   "id": "a1eb769f",
   "metadata": {},
   "source": [
    "# Evaluating the model"
   ]
  },
  {
   "cell_type": "code",
   "execution_count": 32,
   "id": "dd952ab5",
   "metadata": {},
   "outputs": [],
   "source": [
    "import numpy as np\n",
    "from sklearn.metrics import mean_squared_error\n",
    "Swiggy_predictions=model.predict(Swiggy_num)\n",
    "mse=mean_squared_error(Swiggy_labels,Swiggy_predictions)\n",
    "rmse=np.sqrt(mse)"
   ]
  },
  {
   "cell_type": "code",
   "execution_count": 33,
   "id": "1abb2ed8",
   "metadata": {},
   "outputs": [
    {
     "data": {
      "text/plain": [
       "0.09661838142704514"
      ]
     },
     "execution_count": 33,
     "metadata": {},
     "output_type": "execute_result"
    }
   ],
   "source": [
    "rmse"
   ]
  },
  {
   "cell_type": "markdown",
   "id": "84f9deb6",
   "metadata": {},
   "source": [
    "# Using better evaluation technique- Cross Validatation"
   ]
  },
  {
   "cell_type": "code",
   "execution_count": 34,
   "id": "359992f3",
   "metadata": {},
   "outputs": [],
   "source": [
    "# 1 2 3 4 5 6 7 8 9 10\n",
    "from sklearn.model_selection import cross_val_score\n",
    "scores=cross_val_score(model,Swiggy_num,Swiggy_labels,scoring=\"neg_mean_squared_error\",cv=10)\n",
    "rmse_scores=np.sqrt(-scores)"
   ]
  },
  {
   "cell_type": "code",
   "execution_count": 35,
   "id": "bc855c45",
   "metadata": {},
   "outputs": [
    {
     "data": {
      "text/plain": [
       "array([0.03805252, 0.12702957, 0.16578243, 0.10709284, 0.03089174,\n",
       "       0.03534322, 0.07906632, 0.11706111, 0.0821482 , 0.12158927])"
      ]
     },
     "execution_count": 35,
     "metadata": {},
     "output_type": "execute_result"
    }
   ],
   "source": [
    "rmse_scores"
   ]
  },
  {
   "cell_type": "code",
   "execution_count": 36,
   "id": "611a6517",
   "metadata": {},
   "outputs": [],
   "source": [
    "def print_scores(scores):\n",
    "    print(\"Scores:\",scores)\n",
    "    print(\"Mean:\",scores.mean())\n",
    "    print(\"Standard deviation:\",scores.std())"
   ]
  },
  {
   "cell_type": "code",
   "execution_count": 37,
   "id": "059146e4",
   "metadata": {},
   "outputs": [
    {
     "name": "stdout",
     "output_type": "stream",
     "text": [
      "Scores: [0.03805252 0.12702957 0.16578243 0.10709284 0.03089174 0.03534322\n",
      " 0.07906632 0.11706111 0.0821482  0.12158927]\n",
      "Mean: 0.0904057219334683\n",
      "Standard deviation: 0.04300669309584452\n"
     ]
    }
   ],
   "source": [
    "print_scores(rmse_scores)"
   ]
  },
  {
   "cell_type": "markdown",
   "id": "d84a55ef",
   "metadata": {},
   "source": [
    "# Using Joblib to produce Model"
   ]
  },
  {
   "cell_type": "markdown",
   "id": "3bc18538",
   "metadata": {},
   "source": [
    "## Saving the Model "
   ]
  },
  {
   "cell_type": "code",
   "execution_count": 38,
   "id": "7f5d4156",
   "metadata": {},
   "outputs": [
    {
     "data": {
      "text/plain": [
       "['Swiigy.joblib']"
      ]
     },
     "execution_count": 38,
     "metadata": {},
     "output_type": "execute_result"
    }
   ],
   "source": [
    "from joblib import dump,load\n",
    "dump(model,'Swiigy.joblib')"
   ]
  },
  {
   "cell_type": "markdown",
   "id": "ec1d6723",
   "metadata": {},
   "source": [
    "## Testing the model on test data"
   ]
  },
  {
   "cell_type": "code",
   "execution_count": 42,
   "id": "cb80e2d1",
   "metadata": {},
   "outputs": [
    {
     "name": "stdout",
     "output_type": "stream",
     "text": [
      "[125.01655519 100.02814191 200.00562088 124.99216765 200.02150516\n",
      " 149.98373695 150.03599712 300.01782889 175.01552322  74.98216149\n",
      " 150.00677208 100.00635425 150.04465243 125.04532335 100.01337404\n",
      " 150.00782478 100.00718342  75.03060125 250.00612575 175.01818417\n",
      " 150.02219884 225.03578422  75.00212816  75.00275965 150.02608981\n",
      " 200.02134574 149.99887466  75.0016462  250.02034756 125.0306035\n",
      " 225.03825829 150.00064976 100.00313354 149.5078984  150.00811991\n",
      " 100.04072103 199.99868484 100.01279787 125.00828438 200.04251161\n",
      " 250.06002487 150.09811096  75.00600853  75.03584807 150.00652703\n",
      " 124.9952668  100.0065823  200.02692432 100.02272282  74.99979717\n",
      " 150.03512814 250.08348567 175.00421199  75.00179064 100.01104299\n",
      " 149.99580801 150.009904    74.99269382 150.0075427  250.03984766\n",
      "  50.03261903  99.99131535  50.0120327  200.01580399  75.00805958\n",
      "  99.99729996 100.00414805 100.03757185 125.0365609  100.03050967\n",
      "  99.50665463 300.04189655 175.01530848 125.00830144 125.00867922\n",
      "  50.00515624 175.00495082 150.01689451 175.06969498 150.01655919\n",
      " 200.03037619 149.49627001  49.9995774   50.01637325 150.05070218\n",
      "  99.99450899 200.01632905 150.01468527  75.02535883 125.01497621\n",
      " 200.0209887   75.00769072 150.00372721 150.03181063  74.99475805\n",
      " 175.02974762  75.02973661 200.01904073 250.02516768 149.99436344\n",
      " 125.04677432 150.01698344  50.04163785 124.98797476] [125, 100, 200, 125, 200, 150, 150, 300, 175, 75, 150, 100, 150, 125, 100, 150, 100, 75, 250, 175, 150, 225, 75, 75, 150, 200, 150, 75, 250, 125, 225, 150, 100, 150, 150, 100, 200, 100, 125, 200, 250, 150, 75, 75, 150, 125, 100, 200, 100, 75, 150, 250, 175, 75, 100, 150, 150, 75, 150, 250, 50, 100, 50, 200, 75, 100, 100, 100, 125, 100, 100, 300, 175, 125, 125, 50, 175, 150, 175, 150, 200, 150, 50, 50, 150, 100, 200, 150, 75, 125, 200, 75, 150, 150, 75, 175, 75, 200, 250, 150, 125, 150, 50, 125]\n"
     ]
    }
   ],
   "source": [
    "X_test=strat_test_set.drop(\"Price_for_1\",axis=1)\n",
    "Y_test=strat_test_set['Price_for_1'].copy()\n",
    "X_test_prepared=my_pipeline.transform(X_test)\n",
    "final_predictions=model.predict(X_test_prepared)\n",
    "final_mse=mean_squared_error(Y_test,final_predictions)\n",
    "final_rmse=np.sqrt(final_mse)\n",
    "print(final_predictions,list(Y_test))"
   ]
  },
  {
   "cell_type": "code",
   "execution_count": 41,
   "id": "9e8a2fdb",
   "metadata": {},
   "outputs": [
    {
     "data": {
      "text/plain": [
       "0.08832922360906241"
      ]
     },
     "execution_count": 41,
     "metadata": {},
     "output_type": "execute_result"
    }
   ],
   "source": [
    "final_rmse"
   ]
  },
  {
   "cell_type": "code",
   "execution_count": 43,
   "id": "b5f45242",
   "metadata": {},
   "outputs": [
    {
     "data": {
      "text/plain": [
       "array([ 1.57700505e+00,  4.40388538e-04, -1.61250982e+00,  6.23122397e-01,\n",
       "        6.23122397e-01])"
      ]
     },
     "execution_count": 43,
     "metadata": {},
     "output_type": "execute_result"
    }
   ],
   "source": [
    "prepared_data[0]"
   ]
  },
  {
   "cell_type": "markdown",
   "id": "e4c7d830",
   "metadata": {},
   "source": [
    "## Using the model"
   ]
  },
  {
   "cell_type": "code",
   "execution_count": 44,
   "id": "9283b330",
   "metadata": {},
   "outputs": [],
   "source": [
    "from joblib import dump,load\n",
    "import numpy as np\n",
    "model=load('Swiigy.joblib')"
   ]
  },
  {
   "cell_type": "code",
   "execution_count": 46,
   "id": "6d10c7b8",
   "metadata": {},
   "outputs": [
    {
     "data": {
      "text/plain": [
       "array([50.0062426])"
      ]
     },
     "execution_count": 46,
     "metadata": {},
     "output_type": "execute_result"
    }
   ],
   "source": [
    "features=np.array([[ 1.57700505e+00,  4.40388538e-04, -1.61250982e+00,  6.23122397e-01,6.23122397e-01]])\n",
    "model.predict(features)"
   ]
  }
 ],
 "metadata": {
  "kernelspec": {
   "display_name": "Python 3 (ipykernel)",
   "language": "python",
   "name": "python3"
  },
  "language_info": {
   "codemirror_mode": {
    "name": "ipython",
    "version": 3
   },
   "file_extension": ".py",
   "mimetype": "text/x-python",
   "name": "python",
   "nbconvert_exporter": "python",
   "pygments_lexer": "ipython3",
   "version": "3.11.1"
  }
 },
 "nbformat": 4,
 "nbformat_minor": 5
}
